{
  "nbformat": 4,
  "nbformat_minor": 0,
  "metadata": {
    "colab": {
      "provenance": []
    },
    "kernelspec": {
      "name": "python3",
      "display_name": "Python 3"
    },
    "language_info": {
      "name": "python"
    }
  },
  "cells": [
    {
      "cell_type": "markdown",
      "source": [
        "#RealtimeSTT for Colab\n",
        "\n",
        "Basic Setup for using Realtime Speech-to-Text for Colab.\n",
        "\n",
        "Select Runtime->'Run All'(Ctrl+F9), UI appears below.\n",
        "\n",
        "\n",
        "Adaptation of the original code:\n",
        "https://github.com/KoljaB/RealtimeSTT"
      ],
      "metadata": {
        "id": "KmxH4d41eNNI"
      }
    },
    {
      "cell_type": "markdown",
      "source": [
        "#Main"
      ],
      "metadata": {
        "id": "SPUBoo3_e4HK"
      }
    },
    {
      "cell_type": "code",
      "execution_count": 10,
      "metadata": {
        "id": "dGoq-LjsbktC"
      },
      "outputs": [],
      "source": [
        "from IPython.display import HTML, display\n",
        "\n",
        "html_code = \"\"\"\n",
        "<div style=\"font-family: Arial, sans-serif; max-width: 600px; margin: 20px auto;\">\n",
        "  <h2 style=\"color: #1a73e8;\">Real-time Speech Recognition</h2>\n",
        "  <button id=\"startBtn\" style=\"padding: 10px 20px; background: #1a73e8; color: white; border: none; border-radius: 4px; cursor: pointer;\">\n",
        "    Start Recording\n",
        "  </button>\n",
        "  <div id=\"status\" style=\"margin: 15px 0; color: #666;\">Status: Ready</div>\n",
        "  <div id=\"output\" style=\"padding: 15px; border: 1px solid #ddd; border-radius: 4px; min-height: 100px; background: #f9f9f9;\"></div>\n",
        "</div>\n",
        "\n",
        "<script>\n",
        "const startBtn = document.getElementById('startBtn');\n",
        "const statusDiv = document.getElementById('status');\n",
        "const outputDiv = document.getElementById('output');\n",
        "\n",
        "// Check browser support\n",
        "if (!('webkitSpeechRecognition' in window)) {\n",
        "  statusDiv.innerHTML = 'Status: Browser not supported (try Chrome)';\n",
        "  startBtn.disabled = true;\n",
        "} else {\n",
        "  const recognition = new webkitSpeechRecognition();\n",
        "  recognition.continuous = true;\n",
        "  recognition.interimResults = true;\n",
        "  recognition.lang = 'en-US';\n",
        "\n",
        "  let isListening = false;\n",
        "\n",
        "  recognition.onstart = () => {\n",
        "    statusDiv.innerHTML = 'Status: Listening...';\n",
        "    startBtn.textContent = 'Stop Recording';\n",
        "    isListening = true;\n",
        "  };\n",
        "\n",
        "  recognition.onresult = (event) => {\n",
        "    let transcript = '';\n",
        "    for (let i = event.resultIndex; i < event.results.length; i++) {\n",
        "      if (event.results[i].isFinal) {\n",
        "        transcript += event.results[i][0].transcript;\n",
        "      } else {\n",
        "        transcript += event.results[i][0].transcript + ' (processing...)';\n",
        "      }\n",
        "    }\n",
        "    outputDiv.innerHTML = `<div style=\"padding: 8px; margin: 4px; background: white; border-radius: 3px;\">${transcript}</div>`;\n",
        "  };\n",
        "\n",
        "  recognition.onerror = (event) => {\n",
        "    statusDiv.innerHTML = `Status: Error - ${event.error}`;\n",
        "  };\n",
        "\n",
        "  recognition.onend = () => {\n",
        "    if (isListening) recognition.start(); // Restart if still listening\n",
        "  };\n",
        "\n",
        "  startBtn.onclick = () => {\n",
        "    if (isListening) {\n",
        "      recognition.stop();\n",
        "      isListening = false;\n",
        "      startBtn.textContent = 'Start Recording';\n",
        "      statusDiv.innerHTML = 'Status: Stopped';\n",
        "    } else {\n",
        "      recognition.start();\n",
        "      outputDiv.innerHTML = ''; // Clear previous results\n",
        "    }\n",
        "  };\n",
        "}\n",
        "</script>\n",
        "\"\"\""
      ]
    },
    {
      "cell_type": "markdown",
      "source": [
        "#Display UI"
      ],
      "metadata": {
        "id": "Zvixu3pQfG2y"
      }
    },
    {
      "cell_type": "code",
      "source": [
        "display(HTML(html_code))"
      ],
      "metadata": {
        "colab": {
          "base_uri": "https://localhost:8080/",
          "height": 302
        },
        "id": "LdLjQa87fEcA",
        "outputId": "9fc883a0-45ad-462a-8383-893a6cbea4b2"
      },
      "execution_count": 11,
      "outputs": [
        {
          "output_type": "display_data",
          "data": {
            "text/plain": [
              "<IPython.core.display.HTML object>"
            ],
            "text/html": [
              "\n",
              "<div style=\"font-family: Arial, sans-serif; max-width: 600px; margin: 20px auto;\">\n",
              "  <h2 style=\"color: #1a73e8;\">Real-time Speech Recognition</h2>\n",
              "  <button id=\"startBtn\" style=\"padding: 10px 20px; background: #1a73e8; color: white; border: none; border-radius: 4px; cursor: pointer;\">\n",
              "    Start Recording\n",
              "  </button>\n",
              "  <div id=\"status\" style=\"margin: 15px 0; color: #666;\">Status: Ready</div>\n",
              "  <div id=\"output\" style=\"padding: 15px; border: 1px solid #ddd; border-radius: 4px; min-height: 100px; background: #f9f9f9;\"></div>\n",
              "</div>\n",
              "\n",
              "<script>\n",
              "const startBtn = document.getElementById('startBtn');\n",
              "const statusDiv = document.getElementById('status');\n",
              "const outputDiv = document.getElementById('output');\n",
              "\n",
              "// Check browser support\n",
              "if (!('webkitSpeechRecognition' in window)) {\n",
              "  statusDiv.innerHTML = 'Status: Browser not supported (try Chrome)';\n",
              "  startBtn.disabled = true;\n",
              "} else {\n",
              "  const recognition = new webkitSpeechRecognition();\n",
              "  recognition.continuous = true;\n",
              "  recognition.interimResults = true;\n",
              "  recognition.lang = 'en-US';\n",
              "\n",
              "  let isListening = false;\n",
              "\n",
              "  recognition.onstart = () => {\n",
              "    statusDiv.innerHTML = 'Status: Listening...';\n",
              "    startBtn.textContent = 'Stop Recording';\n",
              "    isListening = true;\n",
              "  };\n",
              "\n",
              "  recognition.onresult = (event) => {\n",
              "    let transcript = '';\n",
              "    for (let i = event.resultIndex; i < event.results.length; i++) {\n",
              "      if (event.results[i].isFinal) {\n",
              "        transcript += event.results[i][0].transcript;\n",
              "      } else {\n",
              "        transcript += event.results[i][0].transcript + ' (processing...)';\n",
              "      }\n",
              "    }\n",
              "    outputDiv.innerHTML = `<div style=\"padding: 8px; margin: 4px; background: white; border-radius: 3px;\">${transcript}</div>`;\n",
              "  };\n",
              "\n",
              "  recognition.onerror = (event) => {\n",
              "    statusDiv.innerHTML = `Status: Error - ${event.error}`;\n",
              "  };\n",
              "\n",
              "  recognition.onend = () => {\n",
              "    if (isListening) recognition.start(); // Restart if still listening\n",
              "  };\n",
              "\n",
              "  startBtn.onclick = () => {\n",
              "    if (isListening) {\n",
              "      recognition.stop();\n",
              "      isListening = false;\n",
              "      startBtn.textContent = 'Start Recording';\n",
              "      statusDiv.innerHTML = 'Status: Stopped';\n",
              "    } else {\n",
              "      recognition.start();\n",
              "      outputDiv.innerHTML = ''; // Clear previous results\n",
              "    }\n",
              "  };\n",
              "}\n",
              "</script>\n"
            ]
          },
          "metadata": {}
        }
      ]
    }
  ]
}